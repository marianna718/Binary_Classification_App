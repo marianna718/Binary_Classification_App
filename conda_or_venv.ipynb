{
 "cells": [
  {
   "cell_type": "code",
   "execution_count": null,
   "id": "3a83c9c8",
   "metadata": {},
   "outputs": [],
   "source": [
    "# 1. Create a virtual environment\n",
    "python -m venv env_name\n",
    "\n",
    "# 2. Activate the environment\n",
    "# On Windows:\n",
    "env_name\\Scripts\\activate\n",
    "\n",
    "\n",
    "    if error like this:\n",
    "        \"\"\n",
    "        cannot be loaded because running \n",
    "        scripts is disabled on this system. \n",
    "        For more information, see about_Execution_Policies at \n",
    "        \"\"\n",
    "    do this:\n",
    "        run this becouse Windows PowerShell has an execution policy \n",
    "        that prevents running scripts for security reasons.\n",
    "        Solution: Enable Script Execution\n",
    "         Allow only local scripts (Recommended)\n",
    "        \"\"\"\n",
    "        Set-ExecutionPolicy RemoteSigned -Scope CurrentUser\n",
    "activate the environment again:\n",
    "        .\\Web_app\\Scripts\\Activate.ps1\n",
    "\n",
    "        \"\"\"\n",
    "\n",
    "# On macOS/Linux:\n",
    "source env_name/bin/activate\n",
    "\n",
    "# 3. Install packages\n",
    "pip install package_name\n",
    "pip install -r requirements.txt\n",
    "\n",
    "# 4. Freeze dependencies\n",
    "pip freeze > requirements.txt\n",
    "\n",
    "# 5. Install from requirements\n",
    "pip install -r requirements.txt\n",
    "\n",
    "# 6. Deactivate the environment\n",
    "deactivate\n",
    "\n",
    "# 7. Delete environment\n",
    "# Just delete the folder:\n",
    "rm -r env_name\n"
   ]
  },
  {
   "cell_type": "code",
   "execution_count": null,
   "id": "c189b78b",
   "metadata": {},
   "outputs": [],
   "source": [
    "# 1. Create a new environment with Python\n",
    "conda create --name env_name python=3.10\n",
    "\n",
    "# 2. Activate the environment\n",
    "conda activate env_name\n",
    "\n",
    "# 3. Install packages\n",
    "conda install package_name\n",
    "\n",
    "# 4. Install pip-only packages\n",
    "pip install some_package_not_in_conda\n",
    "\n",
    "# 5. Export environment\n",
    "conda env export > environment.yml\n",
    "\n",
    "# 6. Create env from file\n",
    "conda env create -f environment.yml\n",
    "\n",
    "# 7. Deactivate the environment\n",
    "conda deactivate\n",
    "\n",
    "# 8. Delete environment\n",
    "conda remove --name env_name --all\n",
    "\n",
    "# 9. List all environments\n",
    "conda env list\n"
   ]
  },
  {
   "cell_type": "markdown",
   "id": "832ba193",
   "metadata": {},
   "source": [
    "Bonus Tips\n",
    "###### Mix conda + pip in a conda env only when necessary.\n",
    "\n",
    "###### Keep backups of requirements.txt (pip) or environment.yml (conda).\n",
    "\n",
    "###### Use python -m venv if you want native, minimal setups.\n",
    "\n",
    "###### Use conda when working with data science or ML tools (e.g., Jupyter, PyTorch)."
   ]
  },
  {
   "cell_type": "markdown",
   "id": "a8ab148a",
   "metadata": {},
   "source": []
  }
 ],
 "metadata": {
  "kernelspec": {
   "display_name": "Web_app",
   "language": "python",
   "name": "python3"
  },
  "language_info": {
   "name": "python",
   "version": "3.9.13"
  }
 },
 "nbformat": 4,
 "nbformat_minor": 5
}
