{
 "cells": [
  {
   "cell_type": "markdown",
   "id": "a5fee1f5",
   "metadata": {},
   "source": [
    "When want to start the streamlit program run following\n",
    "\n",
    "\n"
   ]
  },
  {
   "cell_type": "code",
   "execution_count": null,
   "id": "bd95f42d",
   "metadata": {},
   "outputs": [],
   "source": [
    "#in terminal\n",
    "\n",
    "streamlit run the_app_name.py"
   ]
  },
  {
   "cell_type": "code",
   "execution_count": null,
   "id": "485c9007",
   "metadata": {},
   "outputs": [],
   "source": []
  }
 ],
 "metadata": {
  "kernelspec": {
   "display_name": "Web_app",
   "language": "python",
   "name": "python3"
  },
  "language_info": {
   "name": "python",
   "version": "3.9.13"
  }
 },
 "nbformat": 4,
 "nbformat_minor": 5
}
